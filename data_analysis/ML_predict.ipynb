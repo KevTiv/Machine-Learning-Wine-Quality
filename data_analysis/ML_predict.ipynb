{
 "metadata": {
  "language_info": {
   "codemirror_mode": {
    "name": "ipython",
    "version": 3
   },
   "file_extension": ".py",
   "mimetype": "text/x-python",
   "name": "python",
   "nbconvert_exporter": "python",
   "pygments_lexer": "ipython3",
   "version": "3.8.8-final"
  },
  "orig_nbformat": 2,
  "kernelspec": {
   "name": "python3",
   "display_name": "Python 3.8.8 64-bit",
   "metadata": {
    "interpreter": {
     "hash": "9d5d69cc1772726267eac11a7dd3b794d42df63d0b7be13d5cc40c5c048196da"
    }
   }
  }
 },
 "nbformat": 4,
 "nbformat_minor": 2,
 "cells": [
  {
   "cell_type": "code",
   "execution_count": null,
   "metadata": {},
   "outputs": [],
   "source": [
    "import numpy as np\n",
    "import pandas as pd\n",
    "import matplotlib as plt\n",
    "import seaborn as sns\n",
    "import plotly.express as pltx\n",
    "import joblib\n",
    "\n",
    "\n",
    "wine_set = pd.read_csv(\"data/winequality.csv\")\n",
    "\n",
    "# Analyze size of the datasets\n",
    "print(\"Rows, columns: \" + str(wine_set.shape))"
   ]
  },
  {
   "cell_type": "code",
   "execution_count": null,
   "metadata": {},
   "outputs": [],
   "source": [
    "# See the first five rows and columns\n",
    "wine_set.head()\n"
   ]
  },
  {
   "cell_type": "code",
   "execution_count": null,
   "metadata": {},
   "outputs": [],
   "source": [
    "# See the last five rows and columns\n",
    "wine_set.tail()"
   ]
  },
  {
   "cell_type": "code",
   "execution_count": null,
   "metadata": {},
   "outputs": [],
   "source": [
    "# Check for missing values (If present)\n",
    "print (wine_set.isna().sum())\n",
    "# No missing values\n"
   ]
  },
  {
   "cell_type": "code",
   "execution_count": null,
   "metadata": {},
   "outputs": [],
   "source": [
    "# Exploring different variables\n",
    "# Histogram of the variable 'quality'\n",
    "quality_histogram = pltx.histogram(wine_set, x='quality')\n",
    "quality_histogram.show()"
   ]
  },
  {
   "cell_type": "code",
   "execution_count": null,
   "metadata": {},
   "outputs": [],
   "source": [
    "corr_val = wine_set.corr()\n",
    "plt.pyplot.subplots(figsize=(15,10))\n",
    "sns.heatmap(corr_val, xticklabels=corr_val.columns, yticklabels=corr_val.columns, annot=True, cmap=sns.diverging_palette(220, 20, as_cmap=True))"
   ]
  },
  {
   "cell_type": "code",
   "execution_count": null,
   "metadata": {},
   "outputs": [],
   "source": [
    "# Create classification of wine between Good and 'not as good' Quality\n",
    "# Good quality wine will be referred as 'good'\n",
    "# Quality score equal or superion to 7 is considered good\n",
    "wine_set['good'] = [1 if x >= 7 else 0 for x in wine_set['quality']]\n",
    "\n",
    "# Prepare the new variables for future comparison\n",
    "# Separate variables as feature and target variable\n",
    "\n",
    "# feature\n",
    "X = wine_set.drop(['quality','good'], axis  = 1)\n",
    "# target\n",
    "Y = wine_set['good']"
   ]
  },
  {
   "cell_type": "code",
   "execution_count": null,
   "metadata": {},
   "outputs": [],
   "source": [
    "sns.barplot(x=\"alcohol\", y=\"good\", data=wine_set)"
   ]
  },
  {
   "cell_type": "code",
   "execution_count": null,
   "metadata": {},
   "outputs": [],
   "source": [
    "sns.barplot(x=\"density\", y=\"good\", data=wine_set)"
   ]
  },
  {
   "cell_type": "code",
   "execution_count": null,
   "metadata": {},
   "outputs": [],
   "source": [
    "sns.barplot(x=\"free sulfur dioxide\", y=\"good\", data=wine_set)"
   ]
  },
  {
   "cell_type": "code",
   "execution_count": null,
   "metadata": {},
   "outputs": [],
   "source": [
    "sns.pairplot(wine_set, hue = \"good\")"
   ]
  },
  {
   "cell_type": "code",
   "execution_count": null,
   "metadata": {},
   "outputs": [],
   "source": [
    "# Observe proportion of good wine vs the rest of the wine dataset\n",
    "wine_set['good'].value_counts()\n",
    "# Good wine: 1277\n",
    "# Not as good wine: 5220"
   ]
  },
  {
   "cell_type": "code",
   "execution_count": null,
   "metadata": {},
   "outputs": [],
   "source": [
    "# Standardizing feature variables\n",
    "from sklearn.preprocessing import StandardScaler\n",
    "\n",
    "X_features = X\n",
    "X = StandardScaler().fit_transform(X)\n",
    "\n"
   ]
  },
  {
   "cell_type": "code",
   "execution_count": null,
   "metadata": {},
   "outputs": [],
   "source": [
    "# Split data\n",
    "from sklearn.model_selection import train_test_split\n",
    "\n",
    "X_train, X_test, Y_train, Y_test = train_test_split(X, Y, test_size=.25, random_state=0)"
   ]
  },
  {
   "cell_type": "code",
   "execution_count": null,
   "metadata": {},
   "outputs": [],
   "source": [
    "# Machine learning modelling\n",
    "\n",
    "# First modelling technique --- Decision Tree\n",
    "from sklearn.metrics import classification_report\n",
    "from sklearn.tree import DecisionTreeClassifier\n",
    "\n",
    "\n",
    "decision_tree_model = DecisionTreeClassifier(random_state=1)\n",
    "decision_tree_model.fit(X_train, Y_train)\n",
    "Y_decision_tree_pred = decision_tree_model.predict(X_test)\n",
    "\n",
    "print(classification_report(Y_test, Y_decision_tree_pred))"
   ]
  },
  {
   "cell_type": "code",
   "execution_count": null,
   "metadata": {},
   "outputs": [],
   "source": [
    "# Third modelling technique --- KNN\n",
    "from sklearn.neighbors import KNeighborsClassifier\n",
    "\n",
    "knn_modelling = KNeighborsClassifier(n_neighbors=3)\n",
    "knn_modelling.fit(X_train, Y_train)\n",
    "Y_knn_pred = knn_modelling.predict(X_test)\n",
    "\n",
    "\n",
    "print(classification_report(Y_test, Y_random_forest_pred))"
   ]
  },
  {
   "cell_type": "code",
   "execution_count": null,
   "metadata": {},
   "outputs": [],
   "source": [
    "from sklearn.linear_model import LogisticRegression\n",
    "\n",
    "log_regress  = LogisticRegression(random_state=40)\n",
    "log_regress.fit(X_train, Y_train)\n",
    "Y_log_regress_pred = log_regress.predict(X_test)\n",
    "\n",
    "print(classification_report(Y_test, Y_log_regress_pred))"
   ]
  },
  {
   "cell_type": "code",
   "execution_count": null,
   "metadata": {},
   "outputs": [],
   "source": [
    "# Comparing prominent feature of good/not as good wine\n",
    "\n",
    "# Filtering wine_set for only good quality\n",
    "wine_set_temp = wine_set[wine_set['good']==1]\n",
    "wine_set_temp.describe()"
   ]
  },
  {
   "cell_type": "code",
   "execution_count": null,
   "metadata": {},
   "outputs": [],
   "source": [
    "# Filtering wine_set for only not as good quality\n",
    "\n",
    "wine_set_temp1 = wine_set[wine_set['good']==0]\n",
    "wine_set_temp1.describe()"
   ]
  },
  {
   "cell_type": "code",
   "execution_count": null,
   "metadata": {},
   "outputs": [],
   "source": [
    "import tpot\n",
    "autoML = tpot.TPOTClassifier(\n",
    "                            generations=10,\n",
    "                            population_size=100,\n",
    "                            offspring_size=None,\n",
    "                            mutation_rate=0.9,\n",
    "                            crossover_rate=0.1,\n",
    "                            scoring=None,\n",
    "                            cv=5,\n",
    "                            subsample=1.0,\n",
    "                            n_jobs=1,\n",
    "                            max_time_mins=None,\n",
    "                            max_eval_time_mins=5,\n",
    "                            random_state=None,\n",
    "                            config_dict=None,\n",
    "                            template=None,\n",
    "                            warm_start=False,\n",
    "                            memory=None,\n",
    "                            use_dask=False,\n",
    "                            periodic_checkpoint_folder=None,\n",
    "                            early_stop=None,\n",
    "                            verbosity=2,\n",
    "                            disable_update_check=False,\n",
    "                            )\n",
    "autoML.fit(X_train,Y_train)                          "
   ]
  },
  {
   "cell_type": "code",
   "execution_count": null,
   "metadata": {},
   "outputs": [],
   "source": [
    "\n",
    "\n",
    "from sklearn.metrics import accuracy_score\n",
    "from sklearn.metrics import confusion_matrix as cm\n",
    "import matplotlib.pyplot as pyplt\n",
    "\n",
    "predictions = autoML.predict(X_test)\n",
    "score = round(accuracy_score(Y_test, predictions), 3)\n",
    "cm1 = cm(Y_test, predictions)\n",
    "sns.heatmap(cm1, annot=True, fmt=\".0f\")\n",
    "pyplt.xlabel(\"Predicted Values\")\n",
    "pyplt.ylabel(\"Actual Values\")\n",
    "pyplt.title(\"Accuracy Score: {0}\".format(score), size = 15)\n",
    "pyplt.show()\n"
   ]
  },
  {
   "cell_type": "code",
   "execution_count": null,
   "metadata": {},
   "outputs": [],
   "source": [
    "with open('model/autoML-model_knn.joblib', 'wb') as input:\n",
    "    joblib.dump(knn_modelling, input)\n",
    "# Now save model using a joblib file"
   ]
  },
  {
   "cell_type": "code",
   "execution_count": null,
   "metadata": {},
   "outputs": [],
   "source": [
    "with open('model/autoML-model_Decision-Tree.joblib', 'wb') as input:\n",
    "    joblib.dump(decision_tree_model, input)\n",
    "# Now save model using a joblib file"
   ]
  },
  {
   "cell_type": "code",
   "execution_count": null,
   "metadata": {},
   "outputs": [],
   "source": [
    "with open('model/autoML-model_Log-Regress.joblib', 'wb') as input:\n",
    "    joblib.dump(log_regress, input)\n",
    "# Now save model using a joblib file"
   ]
  },
  {
   "cell_type": "code",
   "execution_count": null,
   "metadata": {},
   "outputs": [],
   "source": []
  }
 ]
}